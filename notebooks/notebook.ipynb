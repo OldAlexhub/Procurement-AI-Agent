{
 "cells": [
  {
   "cell_type": "code",
   "execution_count": 1,
   "id": "a89fb299",
   "metadata": {},
   "outputs": [],
   "source": [
    "import numpy as np\n",
    "import pandas as pd\n",
    "from pymongo import MongoClient\n",
    "import os\n",
    "from datetime import date, time, datetime\n",
    "from dotenv import load_dotenv"
   ]
  },
  {
   "cell_type": "code",
   "execution_count": 2,
   "id": "ea6f2d8c",
   "metadata": {},
   "outputs": [
    {
     "data": {
      "text/plain": [
       "True"
      ]
     },
     "execution_count": 2,
     "metadata": {},
     "output_type": "execute_result"
    }
   ],
   "source": [
    "load_dotenv()"
   ]
  },
  {
   "cell_type": "code",
   "execution_count": 3,
   "id": "602d0f78",
   "metadata": {},
   "outputs": [],
   "source": [
    "#Loading the dataset from MongoDB\n",
    "mongo_uri = os.getenv('MONGO_URI')\n",
    "client = MongoClient(mongo_uri)\n",
    "db = client['test']\n",
    "collection= db['Procurement-AI-Agent']\n",
    "data = pd.DataFrame(list(collection.find()))"
   ]
  },
  {
   "cell_type": "code",
   "execution_count": 4,
   "id": "1fb24600",
   "metadata": {},
   "outputs": [],
   "source": [
    "# Remove mongodb's _id column\n",
    "data = data.drop(columns='_id')"
   ]
  },
  {
   "cell_type": "code",
   "execution_count": 5,
   "id": "1a104803",
   "metadata": {},
   "outputs": [
    {
     "data": {
      "application/vnd.microsoft.datawrangler.viewer.v0+json": {
       "columns": [
        {
         "name": "index",
         "rawType": "int64",
         "type": "integer"
        },
        {
         "name": "PO_ID",
         "rawType": "object",
         "type": "string"
        },
        {
         "name": "Supplier",
         "rawType": "object",
         "type": "string"
        },
        {
         "name": "Order_Date",
         "rawType": "object",
         "type": "string"
        },
        {
         "name": "Delivery_Date",
         "rawType": "object",
         "type": "string"
        },
        {
         "name": "Item_Category",
         "rawType": "object",
         "type": "string"
        },
        {
         "name": "Order_Status",
         "rawType": "object",
         "type": "string"
        },
        {
         "name": "Quantity",
         "rawType": "int64",
         "type": "integer"
        },
        {
         "name": "Unit_Price",
         "rawType": "float64",
         "type": "float"
        },
        {
         "name": "Negotiated_Price",
         "rawType": "float64",
         "type": "float"
        },
        {
         "name": "Compliance",
         "rawType": "object",
         "type": "string"
        },
        {
         "name": "Defective_Units",
         "rawType": "float64",
         "type": "float"
        }
       ],
       "ref": "56bfd047-6792-478f-8d81-e17438a199ec",
       "rows": [
        [
         "0",
         "PO-00001",
         "Alpha_Inc",
         "2023-10-17",
         "2023-10-25",
         "Office Supplies",
         "Cancelled",
         "1176",
         "20.13",
         "17.81",
         "Yes",
         null
        ],
        [
         "1",
         "PO-00002",
         "Delta_Logistics",
         "2022-04-25",
         "2022-05-05",
         "Office Supplies",
         "Delivered",
         "1509",
         "39.32",
         "37.34",
         "Yes",
         "235.0"
        ]
       ],
       "shape": {
        "columns": 11,
        "rows": 2
       }
      },
      "text/html": [
       "<div>\n",
       "<style scoped>\n",
       "    .dataframe tbody tr th:only-of-type {\n",
       "        vertical-align: middle;\n",
       "    }\n",
       "\n",
       "    .dataframe tbody tr th {\n",
       "        vertical-align: top;\n",
       "    }\n",
       "\n",
       "    .dataframe thead th {\n",
       "        text-align: right;\n",
       "    }\n",
       "</style>\n",
       "<table border=\"1\" class=\"dataframe\">\n",
       "  <thead>\n",
       "    <tr style=\"text-align: right;\">\n",
       "      <th></th>\n",
       "      <th>PO_ID</th>\n",
       "      <th>Supplier</th>\n",
       "      <th>Order_Date</th>\n",
       "      <th>Delivery_Date</th>\n",
       "      <th>Item_Category</th>\n",
       "      <th>Order_Status</th>\n",
       "      <th>Quantity</th>\n",
       "      <th>Unit_Price</th>\n",
       "      <th>Negotiated_Price</th>\n",
       "      <th>Compliance</th>\n",
       "      <th>Defective_Units</th>\n",
       "    </tr>\n",
       "  </thead>\n",
       "  <tbody>\n",
       "    <tr>\n",
       "      <th>0</th>\n",
       "      <td>PO-00001</td>\n",
       "      <td>Alpha_Inc</td>\n",
       "      <td>2023-10-17</td>\n",
       "      <td>2023-10-25</td>\n",
       "      <td>Office Supplies</td>\n",
       "      <td>Cancelled</td>\n",
       "      <td>1176</td>\n",
       "      <td>20.13</td>\n",
       "      <td>17.81</td>\n",
       "      <td>Yes</td>\n",
       "      <td>NaN</td>\n",
       "    </tr>\n",
       "    <tr>\n",
       "      <th>1</th>\n",
       "      <td>PO-00002</td>\n",
       "      <td>Delta_Logistics</td>\n",
       "      <td>2022-04-25</td>\n",
       "      <td>2022-05-05</td>\n",
       "      <td>Office Supplies</td>\n",
       "      <td>Delivered</td>\n",
       "      <td>1509</td>\n",
       "      <td>39.32</td>\n",
       "      <td>37.34</td>\n",
       "      <td>Yes</td>\n",
       "      <td>235.0</td>\n",
       "    </tr>\n",
       "  </tbody>\n",
       "</table>\n",
       "</div>"
      ],
      "text/plain": [
       "      PO_ID         Supplier  Order_Date Delivery_Date    Item_Category  \\\n",
       "0  PO-00001        Alpha_Inc  2023-10-17    2023-10-25  Office Supplies   \n",
       "1  PO-00002  Delta_Logistics  2022-04-25    2022-05-05  Office Supplies   \n",
       "\n",
       "  Order_Status  Quantity  Unit_Price  Negotiated_Price Compliance  \\\n",
       "0    Cancelled      1176       20.13             17.81        Yes   \n",
       "1    Delivered      1509       39.32             37.34        Yes   \n",
       "\n",
       "   Defective_Units  \n",
       "0              NaN  \n",
       "1            235.0  "
      ]
     },
     "execution_count": 5,
     "metadata": {},
     "output_type": "execute_result"
    }
   ],
   "source": [
    "data.head(2)"
   ]
  },
  {
   "cell_type": "code",
   "execution_count": 6,
   "id": "f071d5f3",
   "metadata": {},
   "outputs": [],
   "source": [
    "#Fill NAs with 0\n",
    "data= data.fillna(0)"
   ]
  },
  {
   "cell_type": "code",
   "execution_count": 7,
   "id": "84c043a7",
   "metadata": {},
   "outputs": [],
   "source": [
    "# Transform date values to three seperate columns\n",
    "data['Order_Date'] = pd.to_datetime(data['Order_Date'])\n",
    "data['Oder_Day'] = pd.to_datetime(data['Order_Date']).dt.day\n",
    "data['Oder_Month'] = pd.to_datetime(data['Order_Date']).dt.month\n",
    "data['Oder_Year'] = pd.to_datetime(data['Order_Date']).dt.year"
   ]
  },
  {
   "cell_type": "code",
   "execution_count": 8,
   "id": "067b2917",
   "metadata": {},
   "outputs": [
    {
     "data": {
      "text/plain": [
       "777"
      ]
     },
     "execution_count": 8,
     "metadata": {},
     "output_type": "execute_result"
    }
   ],
   "source": [
    "len(data['PO_ID'].value_counts().reset_index())"
   ]
  },
  {
   "cell_type": "code",
   "execution_count": 9,
   "id": "a3019257",
   "metadata": {},
   "outputs": [
    {
     "data": {
      "application/vnd.microsoft.datawrangler.viewer.v0+json": {
       "columns": [
        {
         "name": "index",
         "rawType": "int64",
         "type": "integer"
        },
        {
         "name": "Supplier",
         "rawType": "object",
         "type": "string"
        },
        {
         "name": "Compliance",
         "rawType": "object",
         "type": "string"
        },
        {
         "name": "count",
         "rawType": "int64",
         "type": "integer"
        }
       ],
       "ref": "e26e2666-7c38-455b-8e72-c2ca1aea9824",
       "rows": [
        [
         "0",
         "Epsilon_Group",
         "Yes",
         "163"
        ],
        [
         "1",
         "Alpha_Inc",
         "Yes",
         "132"
        ],
        [
         "2",
         "Gamma_Co",
         "Yes",
         "123"
        ],
        [
         "3",
         "Beta_Supplies",
         "Yes",
         "118"
        ],
        [
         "4",
         "Delta_Logistics",
         "Yes",
         "104"
        ],
        [
         "5",
         "Delta_Logistics",
         "No",
         "67"
        ],
        [
         "6",
         "Beta_Supplies",
         "No",
         "38"
        ],
        [
         "7",
         "Gamma_Co",
         "No",
         "20"
        ],
        [
         "8",
         "Alpha_Inc",
         "No",
         "9"
        ],
        [
         "9",
         "Epsilon_Group",
         "No",
         "3"
        ]
       ],
       "shape": {
        "columns": 3,
        "rows": 10
       }
      },
      "text/html": [
       "<div>\n",
       "<style scoped>\n",
       "    .dataframe tbody tr th:only-of-type {\n",
       "        vertical-align: middle;\n",
       "    }\n",
       "\n",
       "    .dataframe tbody tr th {\n",
       "        vertical-align: top;\n",
       "    }\n",
       "\n",
       "    .dataframe thead th {\n",
       "        text-align: right;\n",
       "    }\n",
       "</style>\n",
       "<table border=\"1\" class=\"dataframe\">\n",
       "  <thead>\n",
       "    <tr style=\"text-align: right;\">\n",
       "      <th></th>\n",
       "      <th>Supplier</th>\n",
       "      <th>Compliance</th>\n",
       "      <th>count</th>\n",
       "    </tr>\n",
       "  </thead>\n",
       "  <tbody>\n",
       "    <tr>\n",
       "      <th>0</th>\n",
       "      <td>Epsilon_Group</td>\n",
       "      <td>Yes</td>\n",
       "      <td>163</td>\n",
       "    </tr>\n",
       "    <tr>\n",
       "      <th>1</th>\n",
       "      <td>Alpha_Inc</td>\n",
       "      <td>Yes</td>\n",
       "      <td>132</td>\n",
       "    </tr>\n",
       "    <tr>\n",
       "      <th>2</th>\n",
       "      <td>Gamma_Co</td>\n",
       "      <td>Yes</td>\n",
       "      <td>123</td>\n",
       "    </tr>\n",
       "    <tr>\n",
       "      <th>3</th>\n",
       "      <td>Beta_Supplies</td>\n",
       "      <td>Yes</td>\n",
       "      <td>118</td>\n",
       "    </tr>\n",
       "    <tr>\n",
       "      <th>4</th>\n",
       "      <td>Delta_Logistics</td>\n",
       "      <td>Yes</td>\n",
       "      <td>104</td>\n",
       "    </tr>\n",
       "    <tr>\n",
       "      <th>5</th>\n",
       "      <td>Delta_Logistics</td>\n",
       "      <td>No</td>\n",
       "      <td>67</td>\n",
       "    </tr>\n",
       "    <tr>\n",
       "      <th>6</th>\n",
       "      <td>Beta_Supplies</td>\n",
       "      <td>No</td>\n",
       "      <td>38</td>\n",
       "    </tr>\n",
       "    <tr>\n",
       "      <th>7</th>\n",
       "      <td>Gamma_Co</td>\n",
       "      <td>No</td>\n",
       "      <td>20</td>\n",
       "    </tr>\n",
       "    <tr>\n",
       "      <th>8</th>\n",
       "      <td>Alpha_Inc</td>\n",
       "      <td>No</td>\n",
       "      <td>9</td>\n",
       "    </tr>\n",
       "    <tr>\n",
       "      <th>9</th>\n",
       "      <td>Epsilon_Group</td>\n",
       "      <td>No</td>\n",
       "      <td>3</td>\n",
       "    </tr>\n",
       "  </tbody>\n",
       "</table>\n",
       "</div>"
      ],
      "text/plain": [
       "          Supplier Compliance  count\n",
       "0    Epsilon_Group        Yes    163\n",
       "1        Alpha_Inc        Yes    132\n",
       "2         Gamma_Co        Yes    123\n",
       "3    Beta_Supplies        Yes    118\n",
       "4  Delta_Logistics        Yes    104\n",
       "5  Delta_Logistics         No     67\n",
       "6    Beta_Supplies         No     38\n",
       "7         Gamma_Co         No     20\n",
       "8        Alpha_Inc         No      9\n",
       "9    Epsilon_Group         No      3"
      ]
     },
     "execution_count": 9,
     "metadata": {},
     "output_type": "execute_result"
    }
   ],
   "source": [
    "# Checking with Vendor and compliance reputations\n",
    "data[['Supplier', 'Compliance']].value_counts().reset_index()"
   ]
  },
  {
   "cell_type": "code",
   "execution_count": 10,
   "id": "5c0b4077",
   "metadata": {},
   "outputs": [
    {
     "data": {
      "application/vnd.microsoft.datawrangler.viewer.v0+json": {
       "columns": [
        {
         "name": "Order_Status",
         "rawType": "object",
         "type": "string"
        },
        {
         "name": "proportion",
         "rawType": "float64",
         "type": "float"
        }
       ],
       "ref": "f6800dfb-fdab-44fc-8886-25f59d663efe",
       "rows": [
        [
         "Delivered",
         "0.7207207207207207"
        ],
        [
         "Pending",
         "0.10424710424710425"
        ],
        [
         "Partially Delivered",
         "0.09395109395109395"
        ],
        [
         "Cancelled",
         "0.08108108108108109"
        ]
       ],
       "shape": {
        "columns": 1,
        "rows": 4
       }
      },
      "text/plain": [
       "Order_Status\n",
       "Delivered              0.720721\n",
       "Pending                0.104247\n",
       "Partially Delivered    0.093951\n",
       "Cancelled              0.081081\n",
       "Name: proportion, dtype: float64"
      ]
     },
     "execution_count": 10,
     "metadata": {},
     "output_type": "execute_result"
    }
   ],
   "source": [
    "# Not important but I want to know\n",
    "\n",
    "data['Order_Status'].value_counts(normalize=True)"
   ]
  },
  {
   "cell_type": "code",
   "execution_count": 11,
   "id": "df2cb2e9",
   "metadata": {},
   "outputs": [],
   "source": [
    "from sklearn.preprocessing import LabelEncoder"
   ]
  },
  {
   "cell_type": "code",
   "execution_count": 12,
   "id": "48b14ede",
   "metadata": {},
   "outputs": [
    {
     "data": {
      "text/plain": [
       "Index(['PO_ID', 'Supplier', 'Delivery_Date', 'Item_Category', 'Order_Status',\n",
       "       'Compliance'],\n",
       "      dtype='object')"
      ]
     },
     "execution_count": 12,
     "metadata": {},
     "output_type": "execute_result"
    }
   ],
   "source": [
    "data.select_dtypes(include='object').columns"
   ]
  },
  {
   "cell_type": "code",
   "execution_count": 13,
   "id": "bf27a339",
   "metadata": {},
   "outputs": [],
   "source": [
    "le = LabelEncoder()\n",
    "\n",
    "for col in ['Supplier', 'Item_Category', 'Order_Status','Compliance']:\n",
    "    data[f\"encoded_{col}\"] = le.fit_transform(data[col])"
   ]
  },
  {
   "cell_type": "code",
   "execution_count": 14,
   "id": "30cf8f12",
   "metadata": {},
   "outputs": [
    {
     "data": {
      "application/vnd.microsoft.datawrangler.viewer.v0+json": {
       "columns": [
        {
         "name": "index",
         "rawType": "int64",
         "type": "integer"
        },
        {
         "name": "PO_ID",
         "rawType": "object",
         "type": "string"
        },
        {
         "name": "Supplier",
         "rawType": "object",
         "type": "string"
        },
        {
         "name": "Order_Date",
         "rawType": "datetime64[ns]",
         "type": "datetime"
        },
        {
         "name": "Delivery_Date",
         "rawType": "object",
         "type": "string"
        },
        {
         "name": "Item_Category",
         "rawType": "object",
         "type": "string"
        },
        {
         "name": "Order_Status",
         "rawType": "object",
         "type": "string"
        },
        {
         "name": "Quantity",
         "rawType": "int64",
         "type": "integer"
        },
        {
         "name": "Unit_Price",
         "rawType": "float64",
         "type": "float"
        },
        {
         "name": "Negotiated_Price",
         "rawType": "float64",
         "type": "float"
        },
        {
         "name": "Compliance",
         "rawType": "object",
         "type": "string"
        },
        {
         "name": "Defective_Units",
         "rawType": "float64",
         "type": "float"
        },
        {
         "name": "Oder_Day",
         "rawType": "int32",
         "type": "integer"
        },
        {
         "name": "Oder_Month",
         "rawType": "int32",
         "type": "integer"
        },
        {
         "name": "Oder_Year",
         "rawType": "int32",
         "type": "integer"
        },
        {
         "name": "encoded_Supplier",
         "rawType": "int64",
         "type": "integer"
        },
        {
         "name": "encoded_Item_Category",
         "rawType": "int64",
         "type": "integer"
        },
        {
         "name": "encoded_Order_Status",
         "rawType": "int64",
         "type": "integer"
        },
        {
         "name": "encoded_Compliance",
         "rawType": "int64",
         "type": "integer"
        }
       ],
       "ref": "3f375b89-9b51-4e30-b2dd-11f028ca8dde",
       "rows": [
        [
         "0",
         "PO-00001",
         "Alpha_Inc",
         "2023-10-17 00:00:00",
         "2023-10-25",
         "Office Supplies",
         "Cancelled",
         "1176",
         "20.13",
         "17.81",
         "Yes",
         "0.0",
         "17",
         "10",
         "2023",
         "0",
         "2",
         "0",
         "1"
        ],
        [
         "1",
         "PO-00002",
         "Delta_Logistics",
         "2022-04-25 00:00:00",
         "2022-05-05",
         "Office Supplies",
         "Delivered",
         "1509",
         "39.32",
         "37.34",
         "Yes",
         "235.0",
         "25",
         "4",
         "2022",
         "2",
         "2",
         "1",
         "1"
        ]
       ],
       "shape": {
        "columns": 18,
        "rows": 2
       }
      },
      "text/html": [
       "<div>\n",
       "<style scoped>\n",
       "    .dataframe tbody tr th:only-of-type {\n",
       "        vertical-align: middle;\n",
       "    }\n",
       "\n",
       "    .dataframe tbody tr th {\n",
       "        vertical-align: top;\n",
       "    }\n",
       "\n",
       "    .dataframe thead th {\n",
       "        text-align: right;\n",
       "    }\n",
       "</style>\n",
       "<table border=\"1\" class=\"dataframe\">\n",
       "  <thead>\n",
       "    <tr style=\"text-align: right;\">\n",
       "      <th></th>\n",
       "      <th>PO_ID</th>\n",
       "      <th>Supplier</th>\n",
       "      <th>Order_Date</th>\n",
       "      <th>Delivery_Date</th>\n",
       "      <th>Item_Category</th>\n",
       "      <th>Order_Status</th>\n",
       "      <th>Quantity</th>\n",
       "      <th>Unit_Price</th>\n",
       "      <th>Negotiated_Price</th>\n",
       "      <th>Compliance</th>\n",
       "      <th>Defective_Units</th>\n",
       "      <th>Oder_Day</th>\n",
       "      <th>Oder_Month</th>\n",
       "      <th>Oder_Year</th>\n",
       "      <th>encoded_Supplier</th>\n",
       "      <th>encoded_Item_Category</th>\n",
       "      <th>encoded_Order_Status</th>\n",
       "      <th>encoded_Compliance</th>\n",
       "    </tr>\n",
       "  </thead>\n",
       "  <tbody>\n",
       "    <tr>\n",
       "      <th>0</th>\n",
       "      <td>PO-00001</td>\n",
       "      <td>Alpha_Inc</td>\n",
       "      <td>2023-10-17</td>\n",
       "      <td>2023-10-25</td>\n",
       "      <td>Office Supplies</td>\n",
       "      <td>Cancelled</td>\n",
       "      <td>1176</td>\n",
       "      <td>20.13</td>\n",
       "      <td>17.81</td>\n",
       "      <td>Yes</td>\n",
       "      <td>0.0</td>\n",
       "      <td>17</td>\n",
       "      <td>10</td>\n",
       "      <td>2023</td>\n",
       "      <td>0</td>\n",
       "      <td>2</td>\n",
       "      <td>0</td>\n",
       "      <td>1</td>\n",
       "    </tr>\n",
       "    <tr>\n",
       "      <th>1</th>\n",
       "      <td>PO-00002</td>\n",
       "      <td>Delta_Logistics</td>\n",
       "      <td>2022-04-25</td>\n",
       "      <td>2022-05-05</td>\n",
       "      <td>Office Supplies</td>\n",
       "      <td>Delivered</td>\n",
       "      <td>1509</td>\n",
       "      <td>39.32</td>\n",
       "      <td>37.34</td>\n",
       "      <td>Yes</td>\n",
       "      <td>235.0</td>\n",
       "      <td>25</td>\n",
       "      <td>4</td>\n",
       "      <td>2022</td>\n",
       "      <td>2</td>\n",
       "      <td>2</td>\n",
       "      <td>1</td>\n",
       "      <td>1</td>\n",
       "    </tr>\n",
       "  </tbody>\n",
       "</table>\n",
       "</div>"
      ],
      "text/plain": [
       "      PO_ID         Supplier Order_Date Delivery_Date    Item_Category  \\\n",
       "0  PO-00001        Alpha_Inc 2023-10-17    2023-10-25  Office Supplies   \n",
       "1  PO-00002  Delta_Logistics 2022-04-25    2022-05-05  Office Supplies   \n",
       "\n",
       "  Order_Status  Quantity  Unit_Price  Negotiated_Price Compliance  \\\n",
       "0    Cancelled      1176       20.13             17.81        Yes   \n",
       "1    Delivered      1509       39.32             37.34        Yes   \n",
       "\n",
       "   Defective_Units  Oder_Day  Oder_Month  Oder_Year  encoded_Supplier  \\\n",
       "0              0.0        17          10       2023                 0   \n",
       "1            235.0        25           4       2022                 2   \n",
       "\n",
       "   encoded_Item_Category  encoded_Order_Status  encoded_Compliance  \n",
       "0                      2                     0                   1  \n",
       "1                      2                     1                   1  "
      ]
     },
     "execution_count": 14,
     "metadata": {},
     "output_type": "execute_result"
    }
   ],
   "source": [
    "data.head(2)"
   ]
  },
  {
   "cell_type": "markdown",
   "id": "07de6237",
   "metadata": {},
   "source": [
    "### Data Transformation Glossary"
   ]
  },
  {
   "cell_type": "code",
   "execution_count": 15,
   "id": "29ee08ad",
   "metadata": {},
   "outputs": [
    {
     "data": {
      "application/vnd.microsoft.datawrangler.viewer.v0+json": {
       "columns": [
        {
         "name": "Supplier",
         "rawType": "object",
         "type": "string"
        },
        {
         "name": "encoded_Supplier",
         "rawType": "float64",
         "type": "float"
        }
       ],
       "ref": "f86dc085-f648-40f5-9660-7efa97f5873c",
       "rows": [
        [
         "Alpha_Inc",
         "0.0"
        ],
        [
         "Beta_Supplies",
         "1.0"
        ],
        [
         "Delta_Logistics",
         "2.0"
        ],
        [
         "Epsilon_Group",
         "3.0"
        ],
        [
         "Gamma_Co",
         "4.0"
        ]
       ],
       "shape": {
        "columns": 1,
        "rows": 5
       }
      },
      "text/plain": [
       "Supplier\n",
       "Alpha_Inc          0.0\n",
       "Beta_Supplies      1.0\n",
       "Delta_Logistics    2.0\n",
       "Epsilon_Group      3.0\n",
       "Gamma_Co           4.0\n",
       "Name: encoded_Supplier, dtype: float64"
      ]
     },
     "execution_count": 15,
     "metadata": {},
     "output_type": "execute_result"
    }
   ],
   "source": [
    "supplier = data.groupby('Supplier')['encoded_Supplier'].mean()\n",
    "supplier"
   ]
  },
  {
   "cell_type": "code",
   "execution_count": 16,
   "id": "0104375f",
   "metadata": {},
   "outputs": [
    {
     "data": {
      "application/vnd.microsoft.datawrangler.viewer.v0+json": {
       "columns": [
        {
         "name": "Item_Category",
         "rawType": "object",
         "type": "string"
        },
        {
         "name": "encoded_Item_Category",
         "rawType": "float64",
         "type": "float"
        }
       ],
       "ref": "87ab5104-a6b2-4a2a-8722-6691c3ffbed9",
       "rows": [
        [
         "Electronics",
         "0.0"
        ],
        [
         "MRO",
         "1.0"
        ],
        [
         "Office Supplies",
         "2.0"
        ],
        [
         "Packaging",
         "3.0"
        ],
        [
         "Raw Materials",
         "4.0"
        ]
       ],
       "shape": {
        "columns": 1,
        "rows": 5
       }
      },
      "text/plain": [
       "Item_Category\n",
       "Electronics        0.0\n",
       "MRO                1.0\n",
       "Office Supplies    2.0\n",
       "Packaging          3.0\n",
       "Raw Materials      4.0\n",
       "Name: encoded_Item_Category, dtype: float64"
      ]
     },
     "execution_count": 16,
     "metadata": {},
     "output_type": "execute_result"
    }
   ],
   "source": [
    "item_Category = data.groupby('Item_Category')['encoded_Item_Category'].mean()\n",
    "item_Category"
   ]
  },
  {
   "cell_type": "code",
   "execution_count": 17,
   "id": "03a0bed7",
   "metadata": {},
   "outputs": [
    {
     "data": {
      "application/vnd.microsoft.datawrangler.viewer.v0+json": {
       "columns": [
        {
         "name": "Order_Status",
         "rawType": "object",
         "type": "string"
        },
        {
         "name": "encoded_Order_Status",
         "rawType": "float64",
         "type": "float"
        }
       ],
       "ref": "75967ab8-4812-4619-a8b7-dc7c2043c2b3",
       "rows": [
        [
         "Cancelled",
         "0.0"
        ],
        [
         "Delivered",
         "1.0"
        ],
        [
         "Partially Delivered",
         "2.0"
        ],
        [
         "Pending",
         "3.0"
        ]
       ],
       "shape": {
        "columns": 1,
        "rows": 4
       }
      },
      "text/plain": [
       "Order_Status\n",
       "Cancelled              0.0\n",
       "Delivered              1.0\n",
       "Partially Delivered    2.0\n",
       "Pending                3.0\n",
       "Name: encoded_Order_Status, dtype: float64"
      ]
     },
     "execution_count": 17,
     "metadata": {},
     "output_type": "execute_result"
    }
   ],
   "source": [
    "order_Status = data.groupby('Order_Status')['encoded_Order_Status'].mean()\n",
    "order_Status"
   ]
  },
  {
   "cell_type": "code",
   "execution_count": 18,
   "id": "f1efa733",
   "metadata": {},
   "outputs": [
    {
     "data": {
      "application/vnd.microsoft.datawrangler.viewer.v0+json": {
       "columns": [
        {
         "name": "Compliance",
         "rawType": "object",
         "type": "string"
        },
        {
         "name": "encoded_Compliance",
         "rawType": "float64",
         "type": "float"
        }
       ],
       "ref": "79ea40a9-d60f-4b66-bf42-ab2e1d2f3bd0",
       "rows": [
        [
         "No",
         "0.0"
        ],
        [
         "Yes",
         "1.0"
        ]
       ],
       "shape": {
        "columns": 1,
        "rows": 2
       }
      },
      "text/plain": [
       "Compliance\n",
       "No     0.0\n",
       "Yes    1.0\n",
       "Name: encoded_Compliance, dtype: float64"
      ]
     },
     "execution_count": 18,
     "metadata": {},
     "output_type": "execute_result"
    }
   ],
   "source": [
    "compliance= data.groupby('Compliance')['encoded_Compliance'].mean()\n",
    "compliance"
   ]
  },
  {
   "cell_type": "code",
   "execution_count": 19,
   "id": "a050be0e",
   "metadata": {},
   "outputs": [],
   "source": [
    "processed = data.select_dtypes('number')"
   ]
  },
  {
   "cell_type": "code",
   "execution_count": 20,
   "id": "b483ae64",
   "metadata": {},
   "outputs": [
    {
     "data": {
      "text/plain": [
       "Index(['Quantity', 'Unit_Price', 'Negotiated_Price', 'Defective_Units',\n",
       "       'Oder_Day', 'Oder_Month', 'Oder_Year', 'encoded_Supplier',\n",
       "       'encoded_Item_Category', 'encoded_Order_Status', 'encoded_Compliance'],\n",
       "      dtype='object')"
      ]
     },
     "execution_count": 20,
     "metadata": {},
     "output_type": "execute_result"
    }
   ],
   "source": [
    "processed.columns"
   ]
  },
  {
   "cell_type": "code",
   "execution_count": 21,
   "id": "adcd825e",
   "metadata": {},
   "outputs": [],
   "source": [
    "processed = processed[['encoded_Supplier','encoded_Item_Category', 'encoded_Order_Status', 'Oder_Day', \n",
    "           'Oder_Month', 'Oder_Year', 'Quantity', 'Unit_Price', 'Negotiated_Price', 'Defective_Units', 'encoded_Compliance']]"
   ]
  },
  {
   "cell_type": "code",
   "execution_count": 22,
   "id": "c70687c7",
   "metadata": {},
   "outputs": [],
   "source": [
    "from sklearn.model_selection import train_test_split\n",
    "from sklearn.ensemble import RandomForestClassifier\n",
    "from sklearn.metrics import classification_report, accuracy_score, roc_auc_score, average_precision_score, precision_recall_curve, roc_curve\n",
    "import random"
   ]
  },
  {
   "cell_type": "code",
   "execution_count": 23,
   "id": "2eb95510",
   "metadata": {},
   "outputs": [],
   "source": [
    "random.seed(42)"
   ]
  },
  {
   "cell_type": "code",
   "execution_count": 24,
   "id": "ef4e67a9",
   "metadata": {},
   "outputs": [],
   "source": [
    "X = processed.drop(columns= 'encoded_Compliance')\n",
    "y = processed['encoded_Compliance']"
   ]
  },
  {
   "cell_type": "code",
   "execution_count": 25,
   "id": "0a6aac5c",
   "metadata": {},
   "outputs": [],
   "source": [
    "X_train, X_test, y_train, y_test = train_test_split(X, y, test_size= .2, random_state= 42, stratify= y)"
   ]
  },
  {
   "cell_type": "code",
   "execution_count": 26,
   "id": "f2a74d83",
   "metadata": {},
   "outputs": [],
   "source": [
    "params = {\n",
    "    \"n_estimators\": 350,              # More trees for stability\n",
    "    \"criterion\": \"gini\",              # \"gini\" or \"entropy\" – both work, gini is faster\n",
    "    \"max_depth\": None,                # Let trees grow fully unless overfitting\n",
    "    \"min_samples_split\": 5,           # Prevents overfitting\n",
    "    \"min_samples_leaf\": 2,            # Each leaf must have at least 2 samples\n",
    "    \"max_features\": \"sqrt\",           # Common for classification tasks\n",
    "    \"bootstrap\": True,                # Bootstrapping improves generalization\n",
    "    \"class_weight\": \"balanced\",       # Handles imbalanced classes\n",
    "    \"random_state\": 42,               # Reproducibility\n",
    "    \"n_jobs\": -1,                     # Use all cores\n",
    "    \"verbose\": 0                      # Set >0 to see training progress\n",
    "}"
   ]
  },
  {
   "cell_type": "code",
   "execution_count": 27,
   "id": "52ffd109",
   "metadata": {},
   "outputs": [],
   "source": [
    "rfModel = RandomForestClassifier(**params)"
   ]
  },
  {
   "cell_type": "code",
   "execution_count": 28,
   "id": "50a9f0aa",
   "metadata": {},
   "outputs": [
    {
     "data": {
      "text/html": [
       "<style>#sk-container-id-1 {\n",
       "  /* Definition of color scheme common for light and dark mode */\n",
       "  --sklearn-color-text: #000;\n",
       "  --sklearn-color-text-muted: #666;\n",
       "  --sklearn-color-line: gray;\n",
       "  /* Definition of color scheme for unfitted estimators */\n",
       "  --sklearn-color-unfitted-level-0: #fff5e6;\n",
       "  --sklearn-color-unfitted-level-1: #f6e4d2;\n",
       "  --sklearn-color-unfitted-level-2: #ffe0b3;\n",
       "  --sklearn-color-unfitted-level-3: chocolate;\n",
       "  /* Definition of color scheme for fitted estimators */\n",
       "  --sklearn-color-fitted-level-0: #f0f8ff;\n",
       "  --sklearn-color-fitted-level-1: #d4ebff;\n",
       "  --sklearn-color-fitted-level-2: #b3dbfd;\n",
       "  --sklearn-color-fitted-level-3: cornflowerblue;\n",
       "\n",
       "  /* Specific color for light theme */\n",
       "  --sklearn-color-text-on-default-background: var(--sg-text-color, var(--theme-code-foreground, var(--jp-content-font-color1, black)));\n",
       "  --sklearn-color-background: var(--sg-background-color, var(--theme-background, var(--jp-layout-color0, white)));\n",
       "  --sklearn-color-border-box: var(--sg-text-color, var(--theme-code-foreground, var(--jp-content-font-color1, black)));\n",
       "  --sklearn-color-icon: #696969;\n",
       "\n",
       "  @media (prefers-color-scheme: dark) {\n",
       "    /* Redefinition of color scheme for dark theme */\n",
       "    --sklearn-color-text-on-default-background: var(--sg-text-color, var(--theme-code-foreground, var(--jp-content-font-color1, white)));\n",
       "    --sklearn-color-background: var(--sg-background-color, var(--theme-background, var(--jp-layout-color0, #111)));\n",
       "    --sklearn-color-border-box: var(--sg-text-color, var(--theme-code-foreground, var(--jp-content-font-color1, white)));\n",
       "    --sklearn-color-icon: #878787;\n",
       "  }\n",
       "}\n",
       "\n",
       "#sk-container-id-1 {\n",
       "  color: var(--sklearn-color-text);\n",
       "}\n",
       "\n",
       "#sk-container-id-1 pre {\n",
       "  padding: 0;\n",
       "}\n",
       "\n",
       "#sk-container-id-1 input.sk-hidden--visually {\n",
       "  border: 0;\n",
       "  clip: rect(1px 1px 1px 1px);\n",
       "  clip: rect(1px, 1px, 1px, 1px);\n",
       "  height: 1px;\n",
       "  margin: -1px;\n",
       "  overflow: hidden;\n",
       "  padding: 0;\n",
       "  position: absolute;\n",
       "  width: 1px;\n",
       "}\n",
       "\n",
       "#sk-container-id-1 div.sk-dashed-wrapped {\n",
       "  border: 1px dashed var(--sklearn-color-line);\n",
       "  margin: 0 0.4em 0.5em 0.4em;\n",
       "  box-sizing: border-box;\n",
       "  padding-bottom: 0.4em;\n",
       "  background-color: var(--sklearn-color-background);\n",
       "}\n",
       "\n",
       "#sk-container-id-1 div.sk-container {\n",
       "  /* jupyter's `normalize.less` sets `[hidden] { display: none; }`\n",
       "     but bootstrap.min.css set `[hidden] { display: none !important; }`\n",
       "     so we also need the `!important` here to be able to override the\n",
       "     default hidden behavior on the sphinx rendered scikit-learn.org.\n",
       "     See: https://github.com/scikit-learn/scikit-learn/issues/21755 */\n",
       "  display: inline-block !important;\n",
       "  position: relative;\n",
       "}\n",
       "\n",
       "#sk-container-id-1 div.sk-text-repr-fallback {\n",
       "  display: none;\n",
       "}\n",
       "\n",
       "div.sk-parallel-item,\n",
       "div.sk-serial,\n",
       "div.sk-item {\n",
       "  /* draw centered vertical line to link estimators */\n",
       "  background-image: linear-gradient(var(--sklearn-color-text-on-default-background), var(--sklearn-color-text-on-default-background));\n",
       "  background-size: 2px 100%;\n",
       "  background-repeat: no-repeat;\n",
       "  background-position: center center;\n",
       "}\n",
       "\n",
       "/* Parallel-specific style estimator block */\n",
       "\n",
       "#sk-container-id-1 div.sk-parallel-item::after {\n",
       "  content: \"\";\n",
       "  width: 100%;\n",
       "  border-bottom: 2px solid var(--sklearn-color-text-on-default-background);\n",
       "  flex-grow: 1;\n",
       "}\n",
       "\n",
       "#sk-container-id-1 div.sk-parallel {\n",
       "  display: flex;\n",
       "  align-items: stretch;\n",
       "  justify-content: center;\n",
       "  background-color: var(--sklearn-color-background);\n",
       "  position: relative;\n",
       "}\n",
       "\n",
       "#sk-container-id-1 div.sk-parallel-item {\n",
       "  display: flex;\n",
       "  flex-direction: column;\n",
       "}\n",
       "\n",
       "#sk-container-id-1 div.sk-parallel-item:first-child::after {\n",
       "  align-self: flex-end;\n",
       "  width: 50%;\n",
       "}\n",
       "\n",
       "#sk-container-id-1 div.sk-parallel-item:last-child::after {\n",
       "  align-self: flex-start;\n",
       "  width: 50%;\n",
       "}\n",
       "\n",
       "#sk-container-id-1 div.sk-parallel-item:only-child::after {\n",
       "  width: 0;\n",
       "}\n",
       "\n",
       "/* Serial-specific style estimator block */\n",
       "\n",
       "#sk-container-id-1 div.sk-serial {\n",
       "  display: flex;\n",
       "  flex-direction: column;\n",
       "  align-items: center;\n",
       "  background-color: var(--sklearn-color-background);\n",
       "  padding-right: 1em;\n",
       "  padding-left: 1em;\n",
       "}\n",
       "\n",
       "\n",
       "/* Toggleable style: style used for estimator/Pipeline/ColumnTransformer box that is\n",
       "clickable and can be expanded/collapsed.\n",
       "- Pipeline and ColumnTransformer use this feature and define the default style\n",
       "- Estimators will overwrite some part of the style using the `sk-estimator` class\n",
       "*/\n",
       "\n",
       "/* Pipeline and ColumnTransformer style (default) */\n",
       "\n",
       "#sk-container-id-1 div.sk-toggleable {\n",
       "  /* Default theme specific background. It is overwritten whether we have a\n",
       "  specific estimator or a Pipeline/ColumnTransformer */\n",
       "  background-color: var(--sklearn-color-background);\n",
       "}\n",
       "\n",
       "/* Toggleable label */\n",
       "#sk-container-id-1 label.sk-toggleable__label {\n",
       "  cursor: pointer;\n",
       "  display: flex;\n",
       "  width: 100%;\n",
       "  margin-bottom: 0;\n",
       "  padding: 0.5em;\n",
       "  box-sizing: border-box;\n",
       "  text-align: center;\n",
       "  align-items: start;\n",
       "  justify-content: space-between;\n",
       "  gap: 0.5em;\n",
       "}\n",
       "\n",
       "#sk-container-id-1 label.sk-toggleable__label .caption {\n",
       "  font-size: 0.6rem;\n",
       "  font-weight: lighter;\n",
       "  color: var(--sklearn-color-text-muted);\n",
       "}\n",
       "\n",
       "#sk-container-id-1 label.sk-toggleable__label-arrow:before {\n",
       "  /* Arrow on the left of the label */\n",
       "  content: \"▸\";\n",
       "  float: left;\n",
       "  margin-right: 0.25em;\n",
       "  color: var(--sklearn-color-icon);\n",
       "}\n",
       "\n",
       "#sk-container-id-1 label.sk-toggleable__label-arrow:hover:before {\n",
       "  color: var(--sklearn-color-text);\n",
       "}\n",
       "\n",
       "/* Toggleable content - dropdown */\n",
       "\n",
       "#sk-container-id-1 div.sk-toggleable__content {\n",
       "  display: none;\n",
       "  text-align: left;\n",
       "  /* unfitted */\n",
       "  background-color: var(--sklearn-color-unfitted-level-0);\n",
       "}\n",
       "\n",
       "#sk-container-id-1 div.sk-toggleable__content.fitted {\n",
       "  /* fitted */\n",
       "  background-color: var(--sklearn-color-fitted-level-0);\n",
       "}\n",
       "\n",
       "#sk-container-id-1 div.sk-toggleable__content pre {\n",
       "  margin: 0.2em;\n",
       "  border-radius: 0.25em;\n",
       "  color: var(--sklearn-color-text);\n",
       "  /* unfitted */\n",
       "  background-color: var(--sklearn-color-unfitted-level-0);\n",
       "}\n",
       "\n",
       "#sk-container-id-1 div.sk-toggleable__content.fitted pre {\n",
       "  /* unfitted */\n",
       "  background-color: var(--sklearn-color-fitted-level-0);\n",
       "}\n",
       "\n",
       "#sk-container-id-1 input.sk-toggleable__control:checked~div.sk-toggleable__content {\n",
       "  /* Expand drop-down */\n",
       "  display: block;\n",
       "  width: 100%;\n",
       "  overflow: visible;\n",
       "}\n",
       "\n",
       "#sk-container-id-1 input.sk-toggleable__control:checked~label.sk-toggleable__label-arrow:before {\n",
       "  content: \"▾\";\n",
       "}\n",
       "\n",
       "/* Pipeline/ColumnTransformer-specific style */\n",
       "\n",
       "#sk-container-id-1 div.sk-label input.sk-toggleable__control:checked~label.sk-toggleable__label {\n",
       "  color: var(--sklearn-color-text);\n",
       "  background-color: var(--sklearn-color-unfitted-level-2);\n",
       "}\n",
       "\n",
       "#sk-container-id-1 div.sk-label.fitted input.sk-toggleable__control:checked~label.sk-toggleable__label {\n",
       "  background-color: var(--sklearn-color-fitted-level-2);\n",
       "}\n",
       "\n",
       "/* Estimator-specific style */\n",
       "\n",
       "/* Colorize estimator box */\n",
       "#sk-container-id-1 div.sk-estimator input.sk-toggleable__control:checked~label.sk-toggleable__label {\n",
       "  /* unfitted */\n",
       "  background-color: var(--sklearn-color-unfitted-level-2);\n",
       "}\n",
       "\n",
       "#sk-container-id-1 div.sk-estimator.fitted input.sk-toggleable__control:checked~label.sk-toggleable__label {\n",
       "  /* fitted */\n",
       "  background-color: var(--sklearn-color-fitted-level-2);\n",
       "}\n",
       "\n",
       "#sk-container-id-1 div.sk-label label.sk-toggleable__label,\n",
       "#sk-container-id-1 div.sk-label label {\n",
       "  /* The background is the default theme color */\n",
       "  color: var(--sklearn-color-text-on-default-background);\n",
       "}\n",
       "\n",
       "/* On hover, darken the color of the background */\n",
       "#sk-container-id-1 div.sk-label:hover label.sk-toggleable__label {\n",
       "  color: var(--sklearn-color-text);\n",
       "  background-color: var(--sklearn-color-unfitted-level-2);\n",
       "}\n",
       "\n",
       "/* Label box, darken color on hover, fitted */\n",
       "#sk-container-id-1 div.sk-label.fitted:hover label.sk-toggleable__label.fitted {\n",
       "  color: var(--sklearn-color-text);\n",
       "  background-color: var(--sklearn-color-fitted-level-2);\n",
       "}\n",
       "\n",
       "/* Estimator label */\n",
       "\n",
       "#sk-container-id-1 div.sk-label label {\n",
       "  font-family: monospace;\n",
       "  font-weight: bold;\n",
       "  display: inline-block;\n",
       "  line-height: 1.2em;\n",
       "}\n",
       "\n",
       "#sk-container-id-1 div.sk-label-container {\n",
       "  text-align: center;\n",
       "}\n",
       "\n",
       "/* Estimator-specific */\n",
       "#sk-container-id-1 div.sk-estimator {\n",
       "  font-family: monospace;\n",
       "  border: 1px dotted var(--sklearn-color-border-box);\n",
       "  border-radius: 0.25em;\n",
       "  box-sizing: border-box;\n",
       "  margin-bottom: 0.5em;\n",
       "  /* unfitted */\n",
       "  background-color: var(--sklearn-color-unfitted-level-0);\n",
       "}\n",
       "\n",
       "#sk-container-id-1 div.sk-estimator.fitted {\n",
       "  /* fitted */\n",
       "  background-color: var(--sklearn-color-fitted-level-0);\n",
       "}\n",
       "\n",
       "/* on hover */\n",
       "#sk-container-id-1 div.sk-estimator:hover {\n",
       "  /* unfitted */\n",
       "  background-color: var(--sklearn-color-unfitted-level-2);\n",
       "}\n",
       "\n",
       "#sk-container-id-1 div.sk-estimator.fitted:hover {\n",
       "  /* fitted */\n",
       "  background-color: var(--sklearn-color-fitted-level-2);\n",
       "}\n",
       "\n",
       "/* Specification for estimator info (e.g. \"i\" and \"?\") */\n",
       "\n",
       "/* Common style for \"i\" and \"?\" */\n",
       "\n",
       ".sk-estimator-doc-link,\n",
       "a:link.sk-estimator-doc-link,\n",
       "a:visited.sk-estimator-doc-link {\n",
       "  float: right;\n",
       "  font-size: smaller;\n",
       "  line-height: 1em;\n",
       "  font-family: monospace;\n",
       "  background-color: var(--sklearn-color-background);\n",
       "  border-radius: 1em;\n",
       "  height: 1em;\n",
       "  width: 1em;\n",
       "  text-decoration: none !important;\n",
       "  margin-left: 0.5em;\n",
       "  text-align: center;\n",
       "  /* unfitted */\n",
       "  border: var(--sklearn-color-unfitted-level-1) 1pt solid;\n",
       "  color: var(--sklearn-color-unfitted-level-1);\n",
       "}\n",
       "\n",
       ".sk-estimator-doc-link.fitted,\n",
       "a:link.sk-estimator-doc-link.fitted,\n",
       "a:visited.sk-estimator-doc-link.fitted {\n",
       "  /* fitted */\n",
       "  border: var(--sklearn-color-fitted-level-1) 1pt solid;\n",
       "  color: var(--sklearn-color-fitted-level-1);\n",
       "}\n",
       "\n",
       "/* On hover */\n",
       "div.sk-estimator:hover .sk-estimator-doc-link:hover,\n",
       ".sk-estimator-doc-link:hover,\n",
       "div.sk-label-container:hover .sk-estimator-doc-link:hover,\n",
       ".sk-estimator-doc-link:hover {\n",
       "  /* unfitted */\n",
       "  background-color: var(--sklearn-color-unfitted-level-3);\n",
       "  color: var(--sklearn-color-background);\n",
       "  text-decoration: none;\n",
       "}\n",
       "\n",
       "div.sk-estimator.fitted:hover .sk-estimator-doc-link.fitted:hover,\n",
       ".sk-estimator-doc-link.fitted:hover,\n",
       "div.sk-label-container:hover .sk-estimator-doc-link.fitted:hover,\n",
       ".sk-estimator-doc-link.fitted:hover {\n",
       "  /* fitted */\n",
       "  background-color: var(--sklearn-color-fitted-level-3);\n",
       "  color: var(--sklearn-color-background);\n",
       "  text-decoration: none;\n",
       "}\n",
       "\n",
       "/* Span, style for the box shown on hovering the info icon */\n",
       ".sk-estimator-doc-link span {\n",
       "  display: none;\n",
       "  z-index: 9999;\n",
       "  position: relative;\n",
       "  font-weight: normal;\n",
       "  right: .2ex;\n",
       "  padding: .5ex;\n",
       "  margin: .5ex;\n",
       "  width: min-content;\n",
       "  min-width: 20ex;\n",
       "  max-width: 50ex;\n",
       "  color: var(--sklearn-color-text);\n",
       "  box-shadow: 2pt 2pt 4pt #999;\n",
       "  /* unfitted */\n",
       "  background: var(--sklearn-color-unfitted-level-0);\n",
       "  border: .5pt solid var(--sklearn-color-unfitted-level-3);\n",
       "}\n",
       "\n",
       ".sk-estimator-doc-link.fitted span {\n",
       "  /* fitted */\n",
       "  background: var(--sklearn-color-fitted-level-0);\n",
       "  border: var(--sklearn-color-fitted-level-3);\n",
       "}\n",
       "\n",
       ".sk-estimator-doc-link:hover span {\n",
       "  display: block;\n",
       "}\n",
       "\n",
       "/* \"?\"-specific style due to the `<a>` HTML tag */\n",
       "\n",
       "#sk-container-id-1 a.estimator_doc_link {\n",
       "  float: right;\n",
       "  font-size: 1rem;\n",
       "  line-height: 1em;\n",
       "  font-family: monospace;\n",
       "  background-color: var(--sklearn-color-background);\n",
       "  border-radius: 1rem;\n",
       "  height: 1rem;\n",
       "  width: 1rem;\n",
       "  text-decoration: none;\n",
       "  /* unfitted */\n",
       "  color: var(--sklearn-color-unfitted-level-1);\n",
       "  border: var(--sklearn-color-unfitted-level-1) 1pt solid;\n",
       "}\n",
       "\n",
       "#sk-container-id-1 a.estimator_doc_link.fitted {\n",
       "  /* fitted */\n",
       "  border: var(--sklearn-color-fitted-level-1) 1pt solid;\n",
       "  color: var(--sklearn-color-fitted-level-1);\n",
       "}\n",
       "\n",
       "/* On hover */\n",
       "#sk-container-id-1 a.estimator_doc_link:hover {\n",
       "  /* unfitted */\n",
       "  background-color: var(--sklearn-color-unfitted-level-3);\n",
       "  color: var(--sklearn-color-background);\n",
       "  text-decoration: none;\n",
       "}\n",
       "\n",
       "#sk-container-id-1 a.estimator_doc_link.fitted:hover {\n",
       "  /* fitted */\n",
       "  background-color: var(--sklearn-color-fitted-level-3);\n",
       "}\n",
       "\n",
       ".estimator-table summary {\n",
       "    padding: .5rem;\n",
       "    font-family: monospace;\n",
       "    cursor: pointer;\n",
       "}\n",
       "\n",
       ".estimator-table details[open] {\n",
       "    padding-left: 0.1rem;\n",
       "    padding-right: 0.1rem;\n",
       "    padding-bottom: 0.3rem;\n",
       "}\n",
       "\n",
       ".estimator-table .parameters-table {\n",
       "    margin-left: auto !important;\n",
       "    margin-right: auto !important;\n",
       "}\n",
       "\n",
       ".estimator-table .parameters-table tr:nth-child(odd) {\n",
       "    background-color: #fff;\n",
       "}\n",
       "\n",
       ".estimator-table .parameters-table tr:nth-child(even) {\n",
       "    background-color: #f6f6f6;\n",
       "}\n",
       "\n",
       ".estimator-table .parameters-table tr:hover {\n",
       "    background-color: #e0e0e0;\n",
       "}\n",
       "\n",
       ".estimator-table table td {\n",
       "    border: 1px solid rgba(106, 105, 104, 0.232);\n",
       "}\n",
       "\n",
       ".user-set td {\n",
       "    color:rgb(255, 94, 0);\n",
       "    text-align: left;\n",
       "}\n",
       "\n",
       ".user-set td.value pre {\n",
       "    color:rgb(255, 94, 0) !important;\n",
       "    background-color: transparent !important;\n",
       "}\n",
       "\n",
       ".default td {\n",
       "    color: black;\n",
       "    text-align: left;\n",
       "}\n",
       "\n",
       ".user-set td i,\n",
       ".default td i {\n",
       "    color: black;\n",
       "}\n",
       "\n",
       ".copy-paste-icon {\n",
       "    background-image: url(data:image/svg+xml;base64,PHN2ZyB4bWxucz0iaHR0cDovL3d3dy53My5vcmcvMjAwMC9zdmciIHZpZXdCb3g9IjAgMCA0NDggNTEyIj48IS0tIUZvbnQgQXdlc29tZSBGcmVlIDYuNy4yIGJ5IEBmb250YXdlc29tZSAtIGh0dHBzOi8vZm9udGF3ZXNvbWUuY29tIExpY2Vuc2UgLSBodHRwczovL2ZvbnRhd2Vzb21lLmNvbS9saWNlbnNlL2ZyZWUgQ29weXJpZ2h0IDIwMjUgRm9udGljb25zLCBJbmMuLS0+PHBhdGggZD0iTTIwOCAwTDMzMi4xIDBjMTIuNyAwIDI0LjkgNS4xIDMzLjkgMTQuMWw2Ny45IDY3LjljOSA5IDE0LjEgMjEuMiAxNC4xIDMzLjlMNDQ4IDMzNmMwIDI2LjUtMjEuNSA0OC00OCA0OGwtMTkyIDBjLTI2LjUgMC00OC0yMS41LTQ4LTQ4bDAtMjg4YzAtMjYuNSAyMS41LTQ4IDQ4LTQ4ek00OCAxMjhsODAgMCAwIDY0LTY0IDAgMCAyNTYgMTkyIDAgMC0zMiA2NCAwIDAgNDhjMCAyNi41LTIxLjUgNDgtNDggNDhMNDggNTEyYy0yNi41IDAtNDgtMjEuNS00OC00OEwwIDE3NmMwLTI2LjUgMjEuNS00OCA0OC00OHoiLz48L3N2Zz4=);\n",
       "    background-repeat: no-repeat;\n",
       "    background-size: 14px 14px;\n",
       "    background-position: 0;\n",
       "    display: inline-block;\n",
       "    width: 14px;\n",
       "    height: 14px;\n",
       "    cursor: pointer;\n",
       "}\n",
       "</style><body><div id=\"sk-container-id-1\" class=\"sk-top-container\"><div class=\"sk-text-repr-fallback\"><pre>RandomForestClassifier(class_weight=&#x27;balanced&#x27;, min_samples_leaf=2,\n",
       "                       min_samples_split=5, n_estimators=350, n_jobs=-1,\n",
       "                       random_state=42)</pre><b>In a Jupyter environment, please rerun this cell to show the HTML representation or trust the notebook. <br />On GitHub, the HTML representation is unable to render, please try loading this page with nbviewer.org.</b></div><div class=\"sk-container\" hidden><div class=\"sk-item\"><div class=\"sk-estimator fitted sk-toggleable\"><input class=\"sk-toggleable__control sk-hidden--visually\" id=\"sk-estimator-id-1\" type=\"checkbox\" checked><label for=\"sk-estimator-id-1\" class=\"sk-toggleable__label fitted sk-toggleable__label-arrow\"><div><div>RandomForestClassifier</div></div><div><a class=\"sk-estimator-doc-link fitted\" rel=\"noreferrer\" target=\"_blank\" href=\"https://scikit-learn.org/1.7/modules/generated/sklearn.ensemble.RandomForestClassifier.html\">?<span>Documentation for RandomForestClassifier</span></a><span class=\"sk-estimator-doc-link fitted\">i<span>Fitted</span></span></div></label><div class=\"sk-toggleable__content fitted\" data-param-prefix=\"\">\n",
       "        <div class=\"estimator-table\">\n",
       "            <details>\n",
       "                <summary>Parameters</summary>\n",
       "                <table class=\"parameters-table\">\n",
       "                  <tbody>\n",
       "                    \n",
       "        <tr class=\"user-set\">\n",
       "            <td><i class=\"copy-paste-icon\"\n",
       "                 onclick=\"copyToClipboard('n_estimators',\n",
       "                          this.parentElement.nextElementSibling)\"\n",
       "            ></i></td>\n",
       "            <td class=\"param\">n_estimators&nbsp;</td>\n",
       "            <td class=\"value\">350</td>\n",
       "        </tr>\n",
       "    \n",
       "\n",
       "        <tr class=\"default\">\n",
       "            <td><i class=\"copy-paste-icon\"\n",
       "                 onclick=\"copyToClipboard('criterion',\n",
       "                          this.parentElement.nextElementSibling)\"\n",
       "            ></i></td>\n",
       "            <td class=\"param\">criterion&nbsp;</td>\n",
       "            <td class=\"value\">&#x27;gini&#x27;</td>\n",
       "        </tr>\n",
       "    \n",
       "\n",
       "        <tr class=\"default\">\n",
       "            <td><i class=\"copy-paste-icon\"\n",
       "                 onclick=\"copyToClipboard('max_depth',\n",
       "                          this.parentElement.nextElementSibling)\"\n",
       "            ></i></td>\n",
       "            <td class=\"param\">max_depth&nbsp;</td>\n",
       "            <td class=\"value\">None</td>\n",
       "        </tr>\n",
       "    \n",
       "\n",
       "        <tr class=\"user-set\">\n",
       "            <td><i class=\"copy-paste-icon\"\n",
       "                 onclick=\"copyToClipboard('min_samples_split',\n",
       "                          this.parentElement.nextElementSibling)\"\n",
       "            ></i></td>\n",
       "            <td class=\"param\">min_samples_split&nbsp;</td>\n",
       "            <td class=\"value\">5</td>\n",
       "        </tr>\n",
       "    \n",
       "\n",
       "        <tr class=\"user-set\">\n",
       "            <td><i class=\"copy-paste-icon\"\n",
       "                 onclick=\"copyToClipboard('min_samples_leaf',\n",
       "                          this.parentElement.nextElementSibling)\"\n",
       "            ></i></td>\n",
       "            <td class=\"param\">min_samples_leaf&nbsp;</td>\n",
       "            <td class=\"value\">2</td>\n",
       "        </tr>\n",
       "    \n",
       "\n",
       "        <tr class=\"default\">\n",
       "            <td><i class=\"copy-paste-icon\"\n",
       "                 onclick=\"copyToClipboard('min_weight_fraction_leaf',\n",
       "                          this.parentElement.nextElementSibling)\"\n",
       "            ></i></td>\n",
       "            <td class=\"param\">min_weight_fraction_leaf&nbsp;</td>\n",
       "            <td class=\"value\">0.0</td>\n",
       "        </tr>\n",
       "    \n",
       "\n",
       "        <tr class=\"default\">\n",
       "            <td><i class=\"copy-paste-icon\"\n",
       "                 onclick=\"copyToClipboard('max_features',\n",
       "                          this.parentElement.nextElementSibling)\"\n",
       "            ></i></td>\n",
       "            <td class=\"param\">max_features&nbsp;</td>\n",
       "            <td class=\"value\">&#x27;sqrt&#x27;</td>\n",
       "        </tr>\n",
       "    \n",
       "\n",
       "        <tr class=\"default\">\n",
       "            <td><i class=\"copy-paste-icon\"\n",
       "                 onclick=\"copyToClipboard('max_leaf_nodes',\n",
       "                          this.parentElement.nextElementSibling)\"\n",
       "            ></i></td>\n",
       "            <td class=\"param\">max_leaf_nodes&nbsp;</td>\n",
       "            <td class=\"value\">None</td>\n",
       "        </tr>\n",
       "    \n",
       "\n",
       "        <tr class=\"default\">\n",
       "            <td><i class=\"copy-paste-icon\"\n",
       "                 onclick=\"copyToClipboard('min_impurity_decrease',\n",
       "                          this.parentElement.nextElementSibling)\"\n",
       "            ></i></td>\n",
       "            <td class=\"param\">min_impurity_decrease&nbsp;</td>\n",
       "            <td class=\"value\">0.0</td>\n",
       "        </tr>\n",
       "    \n",
       "\n",
       "        <tr class=\"default\">\n",
       "            <td><i class=\"copy-paste-icon\"\n",
       "                 onclick=\"copyToClipboard('bootstrap',\n",
       "                          this.parentElement.nextElementSibling)\"\n",
       "            ></i></td>\n",
       "            <td class=\"param\">bootstrap&nbsp;</td>\n",
       "            <td class=\"value\">True</td>\n",
       "        </tr>\n",
       "    \n",
       "\n",
       "        <tr class=\"default\">\n",
       "            <td><i class=\"copy-paste-icon\"\n",
       "                 onclick=\"copyToClipboard('oob_score',\n",
       "                          this.parentElement.nextElementSibling)\"\n",
       "            ></i></td>\n",
       "            <td class=\"param\">oob_score&nbsp;</td>\n",
       "            <td class=\"value\">False</td>\n",
       "        </tr>\n",
       "    \n",
       "\n",
       "        <tr class=\"user-set\">\n",
       "            <td><i class=\"copy-paste-icon\"\n",
       "                 onclick=\"copyToClipboard('n_jobs',\n",
       "                          this.parentElement.nextElementSibling)\"\n",
       "            ></i></td>\n",
       "            <td class=\"param\">n_jobs&nbsp;</td>\n",
       "            <td class=\"value\">-1</td>\n",
       "        </tr>\n",
       "    \n",
       "\n",
       "        <tr class=\"user-set\">\n",
       "            <td><i class=\"copy-paste-icon\"\n",
       "                 onclick=\"copyToClipboard('random_state',\n",
       "                          this.parentElement.nextElementSibling)\"\n",
       "            ></i></td>\n",
       "            <td class=\"param\">random_state&nbsp;</td>\n",
       "            <td class=\"value\">42</td>\n",
       "        </tr>\n",
       "    \n",
       "\n",
       "        <tr class=\"default\">\n",
       "            <td><i class=\"copy-paste-icon\"\n",
       "                 onclick=\"copyToClipboard('verbose',\n",
       "                          this.parentElement.nextElementSibling)\"\n",
       "            ></i></td>\n",
       "            <td class=\"param\">verbose&nbsp;</td>\n",
       "            <td class=\"value\">0</td>\n",
       "        </tr>\n",
       "    \n",
       "\n",
       "        <tr class=\"default\">\n",
       "            <td><i class=\"copy-paste-icon\"\n",
       "                 onclick=\"copyToClipboard('warm_start',\n",
       "                          this.parentElement.nextElementSibling)\"\n",
       "            ></i></td>\n",
       "            <td class=\"param\">warm_start&nbsp;</td>\n",
       "            <td class=\"value\">False</td>\n",
       "        </tr>\n",
       "    \n",
       "\n",
       "        <tr class=\"user-set\">\n",
       "            <td><i class=\"copy-paste-icon\"\n",
       "                 onclick=\"copyToClipboard('class_weight',\n",
       "                          this.parentElement.nextElementSibling)\"\n",
       "            ></i></td>\n",
       "            <td class=\"param\">class_weight&nbsp;</td>\n",
       "            <td class=\"value\">&#x27;balanced&#x27;</td>\n",
       "        </tr>\n",
       "    \n",
       "\n",
       "        <tr class=\"default\">\n",
       "            <td><i class=\"copy-paste-icon\"\n",
       "                 onclick=\"copyToClipboard('ccp_alpha',\n",
       "                          this.parentElement.nextElementSibling)\"\n",
       "            ></i></td>\n",
       "            <td class=\"param\">ccp_alpha&nbsp;</td>\n",
       "            <td class=\"value\">0.0</td>\n",
       "        </tr>\n",
       "    \n",
       "\n",
       "        <tr class=\"default\">\n",
       "            <td><i class=\"copy-paste-icon\"\n",
       "                 onclick=\"copyToClipboard('max_samples',\n",
       "                          this.parentElement.nextElementSibling)\"\n",
       "            ></i></td>\n",
       "            <td class=\"param\">max_samples&nbsp;</td>\n",
       "            <td class=\"value\">None</td>\n",
       "        </tr>\n",
       "    \n",
       "\n",
       "        <tr class=\"default\">\n",
       "            <td><i class=\"copy-paste-icon\"\n",
       "                 onclick=\"copyToClipboard('monotonic_cst',\n",
       "                          this.parentElement.nextElementSibling)\"\n",
       "            ></i></td>\n",
       "            <td class=\"param\">monotonic_cst&nbsp;</td>\n",
       "            <td class=\"value\">None</td>\n",
       "        </tr>\n",
       "    \n",
       "                  </tbody>\n",
       "                </table>\n",
       "            </details>\n",
       "        </div>\n",
       "    </div></div></div></div></div><script>function copyToClipboard(text, element) {\n",
       "    // Get the parameter prefix from the closest toggleable content\n",
       "    const toggleableContent = element.closest('.sk-toggleable__content');\n",
       "    const paramPrefix = toggleableContent ? toggleableContent.dataset.paramPrefix : '';\n",
       "    const fullParamName = paramPrefix ? `${paramPrefix}${text}` : text;\n",
       "\n",
       "    const originalStyle = element.style;\n",
       "    const computedStyle = window.getComputedStyle(element);\n",
       "    const originalWidth = computedStyle.width;\n",
       "    const originalHTML = element.innerHTML.replace('Copied!', '');\n",
       "\n",
       "    navigator.clipboard.writeText(fullParamName)\n",
       "        .then(() => {\n",
       "            element.style.width = originalWidth;\n",
       "            element.style.color = 'green';\n",
       "            element.innerHTML = \"Copied!\";\n",
       "\n",
       "            setTimeout(() => {\n",
       "                element.innerHTML = originalHTML;\n",
       "                element.style = originalStyle;\n",
       "            }, 2000);\n",
       "        })\n",
       "        .catch(err => {\n",
       "            console.error('Failed to copy:', err);\n",
       "            element.style.color = 'red';\n",
       "            element.innerHTML = \"Failed!\";\n",
       "            setTimeout(() => {\n",
       "                element.innerHTML = originalHTML;\n",
       "                element.style = originalStyle;\n",
       "            }, 2000);\n",
       "        });\n",
       "    return false;\n",
       "}\n",
       "\n",
       "document.querySelectorAll('.fa-regular.fa-copy').forEach(function(element) {\n",
       "    const toggleableContent = element.closest('.sk-toggleable__content');\n",
       "    const paramPrefix = toggleableContent ? toggleableContent.dataset.paramPrefix : '';\n",
       "    const paramName = element.parentElement.nextElementSibling.textContent.trim();\n",
       "    const fullParamName = paramPrefix ? `${paramPrefix}${paramName}` : paramName;\n",
       "\n",
       "    element.setAttribute('title', fullParamName);\n",
       "});\n",
       "</script></body>"
      ],
      "text/plain": [
       "RandomForestClassifier(class_weight='balanced', min_samples_leaf=2,\n",
       "                       min_samples_split=5, n_estimators=350, n_jobs=-1,\n",
       "                       random_state=42)"
      ]
     },
     "execution_count": 28,
     "metadata": {},
     "output_type": "execute_result"
    }
   ],
   "source": [
    "rfModel.fit(X_train, y_train)"
   ]
  },
  {
   "cell_type": "code",
   "execution_count": 29,
   "id": "538069ad",
   "metadata": {},
   "outputs": [],
   "source": [
    "y_pred = rfModel.predict(X_test)"
   ]
  },
  {
   "cell_type": "code",
   "execution_count": 30,
   "id": "25f2c504",
   "metadata": {},
   "outputs": [
    {
     "name": "stdout",
     "output_type": "stream",
     "text": [
      "              precision    recall  f1-score   support\n",
      "\n",
      "           0       0.45      0.32      0.38        28\n",
      "           1       0.86      0.91      0.89       128\n",
      "\n",
      "    accuracy                           0.81       156\n",
      "   macro avg       0.66      0.62      0.63       156\n",
      "weighted avg       0.79      0.81      0.79       156\n",
      "\n"
     ]
    }
   ],
   "source": [
    "print(classification_report(y_test, y_pred))"
   ]
  },
  {
   "cell_type": "code",
   "execution_count": 31,
   "id": "8c0ee01d",
   "metadata": {},
   "outputs": [
    {
     "data": {
      "text/plain": [
       "0.8076923076923077"
      ]
     },
     "execution_count": 31,
     "metadata": {},
     "output_type": "execute_result"
    }
   ],
   "source": [
    "accuracy_score(y_test, y_pred)"
   ]
  },
  {
   "cell_type": "code",
   "execution_count": 32,
   "id": "a4510655",
   "metadata": {},
   "outputs": [
    {
     "data": {
      "text/plain": [
       "0.6177455357142857"
      ]
     },
     "execution_count": 32,
     "metadata": {},
     "output_type": "execute_result"
    }
   ],
   "source": [
    "roc_auc_score(y_test, y_pred)"
   ]
  },
  {
   "cell_type": "code",
   "execution_count": 33,
   "id": "3ca2645f",
   "metadata": {},
   "outputs": [
    {
     "data": {
      "text/plain": [
       "0.8568754124245852"
      ]
     },
     "execution_count": 33,
     "metadata": {},
     "output_type": "execute_result"
    }
   ],
   "source": [
    "average_precision_score(y_test, y_pred)"
   ]
  },
  {
   "cell_type": "code",
   "execution_count": 34,
   "id": "e538c023",
   "metadata": {},
   "outputs": [],
   "source": [
    "y_prob = rfModel.predict_proba(X_test)[:,1]"
   ]
  },
  {
   "cell_type": "code",
   "execution_count": 35,
   "id": "e216c61b",
   "metadata": {},
   "outputs": [
    {
     "data": {
      "image/png": "[encoded data removed]",
      "text/plain": [
       "<Figure size 640x480 with 1 Axes>"
      ]
     },
     "metadata": {},
     "output_type": "display_data"
    },
    {
     "data": {
      "image/png": "[encoded data removed]",
      "text/plain": [
       "<Figure size 640x480 with 1 Axes>"
      ]
     },
     "metadata": {},
     "output_type": "display_data"
    }
   ],
   "source": [
    "import matplotlib.pyplot as plt \n",
    "\n",
    "precision, recall, _ = precision_recall_curve(y_test, y_prob)\n",
    "fpr, tpr, _ = roc_curve(y_test, y_prob)\n",
    "\n",
    "plt.plot(recall, precision, label=\"PR Curve\")\n",
    "plt.xlabel(\"Recall\"); plt.ylabel(\"Precision\"); plt.legend()\n",
    "plt.show()\n",
    "\n",
    "plt.plot(fpr, tpr, label=\"ROC Curve\")\n",
    "plt.plot([0,1],[0,1],'--',color='gray')\n",
    "plt.xlabel(\"False Positive Rate\"); plt.ylabel(\"True Positive Rate\")\n",
    "plt.legend(); plt.show()"
   ]
  },
  {
   "cell_type": "code",
   "execution_count": 36,
   "id": "8068099b",
   "metadata": {},
   "outputs": [
    {
     "name": "stdout",
     "output_type": "stream",
     "text": [
      "ROC AUC: 0.7282366071428571\n",
      "PR AUC: 0.9305061127437217\n"
     ]
    }
   ],
   "source": [
    "print(\"ROC AUC:\", roc_auc_score(y_test, y_prob))\n",
    "print(\"PR AUC:\", average_precision_score(y_test, y_prob))"
   ]
  },
  {
   "cell_type": "code",
   "execution_count": 37,
   "id": "fb9ab49a",
   "metadata": {},
   "outputs": [
    {
     "data": {
      "application/vnd.microsoft.datawrangler.viewer.v0+json": {
       "columns": [
        {
         "name": "index",
         "rawType": "int64",
         "type": "integer"
        },
        {
         "name": "PO_ID",
         "rawType": "object",
         "type": "string"
        },
        {
         "name": "Supplier",
         "rawType": "object",
         "type": "string"
        },
        {
         "name": "Order_Date",
         "rawType": "datetime64[ns]",
         "type": "datetime"
        },
        {
         "name": "Delivery_Date",
         "rawType": "object",
         "type": "string"
        },
        {
         "name": "Item_Category",
         "rawType": "object",
         "type": "string"
        },
        {
         "name": "Order_Status",
         "rawType": "object",
         "type": "string"
        },
        {
         "name": "Quantity",
         "rawType": "int64",
         "type": "integer"
        },
        {
         "name": "Unit_Price",
         "rawType": "float64",
         "type": "float"
        },
        {
         "name": "Negotiated_Price",
         "rawType": "float64",
         "type": "float"
        },
        {
         "name": "Compliance",
         "rawType": "object",
         "type": "string"
        },
        {
         "name": "Defective_Units",
         "rawType": "float64",
         "type": "float"
        },
        {
         "name": "Oder_Day",
         "rawType": "int32",
         "type": "integer"
        },
        {
         "name": "Oder_Month",
         "rawType": "int32",
         "type": "integer"
        },
        {
         "name": "Oder_Year",
         "rawType": "int32",
         "type": "integer"
        },
        {
         "name": "encoded_Supplier",
         "rawType": "int64",
         "type": "integer"
        },
        {
         "name": "encoded_Item_Category",
         "rawType": "int64",
         "type": "integer"
        },
        {
         "name": "encoded_Order_Status",
         "rawType": "int64",
         "type": "integer"
        },
        {
         "name": "encoded_Compliance",
         "rawType": "int64",
         "type": "integer"
        }
       ],
       "ref": "c90cfd94-c810-430e-8263-ff90432af192",
       "rows": [
        [
         "0",
         "PO-00001",
         "Alpha_Inc",
         "2023-10-17 00:00:00",
         "2023-10-25",
         "Office Supplies",
         "Cancelled",
         "1176",
         "20.13",
         "17.81",
         "Yes",
         "0.0",
         "17",
         "10",
         "2023",
         "0",
         "2",
         "0",
         "1"
        ],
        [
         "1",
         "PO-00002",
         "Delta_Logistics",
         "2022-04-25 00:00:00",
         "2022-05-05",
         "Office Supplies",
         "Delivered",
         "1509",
         "39.32",
         "37.34",
         "Yes",
         "235.0",
         "25",
         "4",
         "2022",
         "2",
         "2",
         "1",
         "1"
        ],
        [
         "2",
         "PO-00003",
         "Gamma_Co",
         "2022-01-26 00:00:00",
         "2022-02-15",
         "MRO",
         "Delivered",
         "910",
         "95.51",
         "92.26",
         "Yes",
         "41.0",
         "26",
         "1",
         "2022",
         "4",
         "1",
         "1",
         "1"
        ],
        [
         "3",
         "PO-00004",
         "Beta_Supplies",
         "2022-10-09 00:00:00",
         "2022-10-28",
         "Packaging",
         "Delivered",
         "1344",
         "99.85",
         "95.52",
         "Yes",
         "112.0",
         "9",
         "10",
         "2022",
         "1",
         "3",
         "1",
         "1"
        ],
        [
         "4",
         "PO-00005",
         "Delta_Logistics",
         "2022-09-08 00:00:00",
         "2022-09-20",
         "Raw Materials",
         "Delivered",
         "1180",
         "64.07",
         "60.53",
         "No",
         "171.0",
         "8",
         "9",
         "2022",
         "2",
         "4",
         "1",
         "0"
        ]
       ],
       "shape": {
        "columns": 18,
        "rows": 5
       }
      },
      "text/html": [
       "<div>\n",
       "<style scoped>\n",
       "    .dataframe tbody tr th:only-of-type {\n",
       "        vertical-align: middle;\n",
       "    }\n",
       "\n",
       "    .dataframe tbody tr th {\n",
       "        vertical-align: top;\n",
       "    }\n",
       "\n",
       "    .dataframe thead th {\n",
       "        text-align: right;\n",
       "    }\n",
       "</style>\n",
       "<table border=\"1\" class=\"dataframe\">\n",
       "  <thead>\n",
       "    <tr style=\"text-align: right;\">\n",
       "      <th></th>\n",
       "      <th>PO_ID</th>\n",
       "      <th>Supplier</th>\n",
       "      <th>Order_Date</th>\n",
       "      <th>Delivery_Date</th>\n",
       "      <th>Item_Category</th>\n",
       "      <th>Order_Status</th>\n",
       "      <th>Quantity</th>\n",
       "      <th>Unit_Price</th>\n",
       "      <th>Negotiated_Price</th>\n",
       "      <th>Compliance</th>\n",
       "      <th>Defective_Units</th>\n",
       "      <th>Oder_Day</th>\n",
       "      <th>Oder_Month</th>\n",
       "      <th>Oder_Year</th>\n",
       "      <th>encoded_Supplier</th>\n",
       "      <th>encoded_Item_Category</th>\n",
       "      <th>encoded_Order_Status</th>\n",
       "      <th>encoded_Compliance</th>\n",
       "    </tr>\n",
       "  </thead>\n",
       "  <tbody>\n",
       "    <tr>\n",
       "      <th>0</th>\n",
       "      <td>PO-00001</td>\n",
       "      <td>Alpha_Inc</td>\n",
       "      <td>2023-10-17</td>\n",
       "      <td>2023-10-25</td>\n",
       "      <td>Office Supplies</td>\n",
       "      <td>Cancelled</td>\n",
       "      <td>1176</td>\n",
       "      <td>20.13</td>\n",
       "      <td>17.81</td>\n",
       "      <td>Yes</td>\n",
       "      <td>0.0</td>\n",
       "      <td>17</td>\n",
       "      <td>10</td>\n",
       "      <td>2023</td>\n",
       "      <td>0</td>\n",
       "      <td>2</td>\n",
       "      <td>0</td>\n",
       "      <td>1</td>\n",
       "    </tr>\n",
       "    <tr>\n",
       "      <th>1</th>\n",
       "      <td>PO-00002</td>\n",
       "      <td>Delta_Logistics</td>\n",
       "      <td>2022-04-25</td>\n",
       "      <td>2022-05-05</td>\n",
       "      <td>Office Supplies</td>\n",
       "      <td>Delivered</td>\n",
       "      <td>1509</td>\n",
       "      <td>39.32</td>\n",
       "      <td>37.34</td>\n",
       "      <td>Yes</td>\n",
       "      <td>235.0</td>\n",
       "      <td>25</td>\n",
       "      <td>4</td>\n",
       "      <td>2022</td>\n",
       "      <td>2</td>\n",
       "      <td>2</td>\n",
       "      <td>1</td>\n",
       "      <td>1</td>\n",
       "    </tr>\n",
       "    <tr>\n",
       "      <th>2</th>\n",
       "      <td>PO-00003</td>\n",
       "      <td>Gamma_Co</td>\n",
       "      <td>2022-01-26</td>\n",
       "      <td>2022-02-15</td>\n",
       "      <td>MRO</td>\n",
       "      <td>Delivered</td>\n",
       "      <td>910</td>\n",
       "      <td>95.51</td>\n",
       "      <td>92.26</td>\n",
       "      <td>Yes</td>\n",
       "      <td>41.0</td>\n",
       "      <td>26</td>\n",
       "      <td>1</td>\n",
       "      <td>2022</td>\n",
       "      <td>4</td>\n",
       "      <td>1</td>\n",
       "      <td>1</td>\n",
       "      <td>1</td>\n",
       "    </tr>\n",
       "    <tr>\n",
       "      <th>3</th>\n",
       "      <td>PO-00004</td>\n",
       "      <td>Beta_Supplies</td>\n",
       "      <td>2022-10-09</td>\n",
       "      <td>2022-10-28</td>\n",
       "      <td>Packaging</td>\n",
       "      <td>Delivered</td>\n",
       "      <td>1344</td>\n",
       "      <td>99.85</td>\n",
       "      <td>95.52</td>\n",
       "      <td>Yes</td>\n",
       "      <td>112.0</td>\n",
       "      <td>9</td>\n",
       "      <td>10</td>\n",
       "      <td>2022</td>\n",
       "      <td>1</td>\n",
       "      <td>3</td>\n",
       "      <td>1</td>\n",
       "      <td>1</td>\n",
       "    </tr>\n",
       "    <tr>\n",
       "      <th>4</th>\n",
       "      <td>PO-00005</td>\n",
       "      <td>Delta_Logistics</td>\n",
       "      <td>2022-09-08</td>\n",
       "      <td>2022-09-20</td>\n",
       "      <td>Raw Materials</td>\n",
       "      <td>Delivered</td>\n",
       "      <td>1180</td>\n",
       "      <td>64.07</td>\n",
       "      <td>60.53</td>\n",
       "      <td>No</td>\n",
       "      <td>171.0</td>\n",
       "      <td>8</td>\n",
       "      <td>9</td>\n",
       "      <td>2022</td>\n",
       "      <td>2</td>\n",
       "      <td>4</td>\n",
       "      <td>1</td>\n",
       "      <td>0</td>\n",
       "    </tr>\n",
       "  </tbody>\n",
       "</table>\n",
       "</div>"
      ],
      "text/plain": [
       "      PO_ID         Supplier Order_Date Delivery_Date    Item_Category  \\\n",
       "0  PO-00001        Alpha_Inc 2023-10-17    2023-10-25  Office Supplies   \n",
       "1  PO-00002  Delta_Logistics 2022-04-25    2022-05-05  Office Supplies   \n",
       "2  PO-00003         Gamma_Co 2022-01-26    2022-02-15              MRO   \n",
       "3  PO-00004    Beta_Supplies 2022-10-09    2022-10-28        Packaging   \n",
       "4  PO-00005  Delta_Logistics 2022-09-08    2022-09-20    Raw Materials   \n",
       "\n",
       "  Order_Status  Quantity  Unit_Price  Negotiated_Price Compliance  \\\n",
       "0    Cancelled      1176       20.13             17.81        Yes   \n",
       "1    Delivered      1509       39.32             37.34        Yes   \n",
       "2    Delivered       910       95.51             92.26        Yes   \n",
       "3    Delivered      1344       99.85             95.52        Yes   \n",
       "4    Delivered      1180       64.07             60.53         No   \n",
       "\n",
       "   Defective_Units  Oder_Day  Oder_Month  Oder_Year  encoded_Supplier  \\\n",
       "0              0.0        17          10       2023                 0   \n",
       "1            235.0        25           4       2022                 2   \n",
       "2             41.0        26           1       2022                 4   \n",
       "3            112.0         9          10       2022                 1   \n",
       "4            171.0         8           9       2022                 2   \n",
       "\n",
       "   encoded_Item_Category  encoded_Order_Status  encoded_Compliance  \n",
       "0                      2                     0                   1  \n",
       "1                      2                     1                   1  \n",
       "2                      1                     1                   1  \n",
       "3                      3                     1                   1  \n",
       "4                      4                     1                   0  "
      ]
     },
     "execution_count": 37,
     "metadata": {},
     "output_type": "execute_result"
    }
   ],
   "source": [
    "data.head()"
   ]
  },
  {
   "cell_type": "code",
   "execution_count": 40,
   "id": "ab3ba9e0",
   "metadata": {},
   "outputs": [],
   "source": [
    "categories = data['Item_Category'].unique()\n",
    "supplier = data['Supplier'].unique()"
   ]
  },
  {
   "cell_type": "code",
   "execution_count": 41,
   "id": "6d4b51e9",
   "metadata": {},
   "outputs": [
    {
     "data": {
      "text/plain": [
       "array(['Alpha_Inc', 'Delta_Logistics', 'Gamma_Co', 'Beta_Supplies',\n",
       "       'Epsilon_Group'], dtype=object)"
      ]
     },
     "execution_count": 41,
     "metadata": {},
     "output_type": "execute_result"
    }
   ],
   "source": [
    "supplier"
   ]
  }
 ],
 "metadata": {
  "kernelspec": {
   "display_name": "Python 3.11 (venv)",
   "language": "python",
   "name": "venv"
  },
  "language_info": {
   "codemirror_mode": {
    "name": "ipython",
    "version": 3
   },
   "file_extension": ".py",
   "mimetype": "text/x-python",
   "name": "python",
   "nbconvert_exporter": "python",
   "pygments_lexer": "ipython3",
   "version": "3.13.5"
  }
 },
 "nbformat": 4,
 "nbformat_minor": 5
}
